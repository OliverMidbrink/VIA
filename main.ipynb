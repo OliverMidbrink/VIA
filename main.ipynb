{
 "cells": [
  {
   "cell_type": "code",
   "execution_count": null,
   "metadata": {},
   "outputs": [],
   "source": [
    "#Import packages\n",
    "import scanpy as sc\n",
    "import matplotlib.pyplot as plt\n",
    "import pandas as pd\n",
    "import numpy as np\n",
    "import time, os\n",
    "print(\"Importing via\")\n",
    "start_time = time.time()\n",
    "import VIA\n",
    "time_elapsed = time.time() - start_time\n",
    "print(\"Done importing via. Took {} seconds\".format(time_elapsed))\n",
    "from datetime import datetime\n",
    "\n",
    "print(f'{datetime.now()}\\tStart reading data')\n",
    "#Change filename to the address you have saved the h5ad file to. \n",
    "adata=sc.read_h5ad(filename='./data/pijuan_gastrulation_via.h5ad') \n",
    "\n",
    "print(f'{datetime.now()}\\tFinished reading data')\n",
    "print(adata)\n"
   ]
  }
 ],
 "metadata": {
  "kernelspec": {
   "display_name": "Python 3.7.16 64-bit",
   "metadata": {
    "interpreter": {
     "hash": "7deb609f8bfa749e17a5c436791400a99f5b9e4f8a7fa8debea93773e84123fb"
    }
   },
   "name": "python3"
  },
  "language_info": {
   "name": "python",
   "nbconvert_exporter": "python",
   "version": "3.7.12"
  },
  "orig_nbformat": 2
 },
 "nbformat": 4,
 "nbformat_minor": 2
}